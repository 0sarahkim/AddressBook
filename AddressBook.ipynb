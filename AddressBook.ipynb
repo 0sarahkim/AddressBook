{
 "cells": [
  {
   "cell_type": "markdown",
   "id": "1cc609a5",
   "metadata": {},
   "source": [
    "Your assignment for the week is to implement an address book, or the objects you suspect may be involved in implementing one.\n",
    "\n",
    "You may take liberties here with whatever functionality interests you -- but focus on the objects moreso than interactivity (i.e. don't focus all or most of your effort on letting someone interactively create or modify your address book.)\n",
    "\n",
    "The only hard requirement is that you should submit somewhere around 50-100 lines of code, and must include some tests.\n",
    "\n",
    "If you need inspiration, find an address book application (e.g. Contacts.app on macOS, or Windows Contacts on Windows) and look at what fields and functionality it offers you."
   ]
  },
  {
   "cell_type": "code",
   "execution_count": 4,
   "id": "bb57ddd7",
   "metadata": {},
   "outputs": [],
   "source": [
    "class Contact:\n",
    "    def __init__(self,name,phone_num,email):  \n",
    "        self.name = name\n",
    "        self.phone_num = phone_num\n",
    "        self.email = email\n",
    "        \n",
    "    def print_list(self): \n",
    "        print(\"Name : \",self.name)\n",
    "        print(\"Phone Number : \",self.phone_num)\n",
    "        print(\"Email Address : \",self.email)"
   ]
  },
  {
   "cell_type": "code",
   "execution_count": 32,
   "id": "60cf0117",
   "metadata": {},
   "outputs": [],
   "source": [
    "contact_list = []\n",
    "\n",
    "def get_contact():\n",
    "    name = input(\"Enter Name > \")\n",
    "    phone_num = input(\"Enter Phone Number > \")\n",
    "    email = input(\"Enter E-mail Address > \")\n",
    "    contact = Contact(name,phone_num,email)\n",
    "    contact_list.append(contact)\n",
    "    print(\"==================Contact Info Registered==================\")\n",
    "    return contact    \n",
    "\n",
    "def print_contact(contact_list):\n",
    "    for contact in contact_list:\n",
    "        contact.print_list()\n",
    "        print(\"======================================================\")\n",
    "        \n",
    "def delete_contact(contact_list, name):\n",
    "    name = input(\"Delete Name: \")\n",
    "    for i, contact in enumerate(contact_list):\n",
    "        if contact.name == name:\n",
    "            del contact_list[i]        "
   ]
  },
  {
   "cell_type": "code",
   "execution_count": 33,
   "id": "b0ba0f13",
   "metadata": {},
   "outputs": [
    {
     "name": "stdout",
     "output_type": "stream",
     "text": [
      "Enter Name > Sarah\n",
      "Enter Phone Number > 1234-1234\n",
      "Enter E-mail Address > sarah.k@columbia.edu\n",
      "==================Contact Info Registered==================\n"
     ]
    },
    {
     "data": {
      "text/plain": [
       "<__main__.Contact at 0x217534dbbe0>"
      ]
     },
     "execution_count": 33,
     "metadata": {},
     "output_type": "execute_result"
    }
   ],
   "source": [
    "get_contact()"
   ]
  },
  {
   "cell_type": "code",
   "execution_count": 36,
   "id": "3d43c6bc",
   "metadata": {},
   "outputs": [
    {
     "name": "stdout",
     "output_type": "stream",
     "text": [
      "Enter Name > Johnny\n",
      "Enter Phone Number > 5678-5678\n",
      "Enter E-mail Address > johnny@columbia.edu\n",
      "==================Contact Info Registered==================\n"
     ]
    },
    {
     "data": {
      "text/plain": [
       "<__main__.Contact at 0x21753580d90>"
      ]
     },
     "execution_count": 36,
     "metadata": {},
     "output_type": "execute_result"
    }
   ],
   "source": [
    "get_contact()"
   ]
  },
  {
   "cell_type": "code",
   "execution_count": 39,
   "id": "1445f52d",
   "metadata": {
    "scrolled": true
   },
   "outputs": [
    {
     "name": "stdout",
     "output_type": "stream",
     "text": [
      "Name :  Johnny\n",
      "Phone Number :  5678-5678\n",
      "Email Address :  johnny@columbia.edu\n",
      "======================================================\n"
     ]
    }
   ],
   "source": [
    "print_contact(contact_list)"
   ]
  },
  {
   "cell_type": "code",
   "execution_count": 38,
   "id": "1609389c",
   "metadata": {},
   "outputs": [
    {
     "name": "stdout",
     "output_type": "stream",
     "text": [
      "Delete Name: Sarah\n"
     ]
    }
   ],
   "source": [
    "delete_contact(contact_list, \"Sarah\")  "
   ]
  },
  {
   "cell_type": "code",
   "execution_count": null,
   "id": "6550b3e5",
   "metadata": {},
   "outputs": [],
   "source": []
  }
 ],
 "metadata": {
  "kernelspec": {
   "display_name": "Python 3 (ipykernel)",
   "language": "python",
   "name": "python3"
  },
  "language_info": {
   "codemirror_mode": {
    "name": "ipython",
    "version": 3
   },
   "file_extension": ".py",
   "mimetype": "text/x-python",
   "name": "python",
   "nbconvert_exporter": "python",
   "pygments_lexer": "ipython3",
   "version": "3.9.7"
  }
 },
 "nbformat": 4,
 "nbformat_minor": 5
}
